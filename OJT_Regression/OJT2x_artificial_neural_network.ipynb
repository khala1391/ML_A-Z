{
 "cells": [
  {
   "cell_type": "markdown",
   "metadata": {
    "colab_type": "text",
    "id": "lP6JLo1tGNBg"
   },
   "source": [
    "# Artificial Neural Network"
   ]
  },
  {
   "cell_type": "markdown",
   "metadata": {
    "colab_type": "text",
    "id": "gWZyYmS_UE_L"
   },
   "source": [
    "### Importing the libraries"
   ]
  },
  {
   "cell_type": "code",
   "execution_count": 20,
   "metadata": {},
   "outputs": [],
   "source": [
    "import numpy as np\n",
    "import matplotlib.pyplot as plt\n",
    "import pandas as pd\n",
    "import tensorflow as tf"
   ]
  },
  {
   "cell_type": "code",
   "execution_count": 2,
   "metadata": {},
   "outputs": [
    {
     "name": "stdout",
     "output_type": "stream",
     "text": [
      "2.10.1\n"
     ]
    }
   ],
   "source": [
    "print(tf.__version__)"
   ]
  },
  {
   "cell_type": "code",
   "execution_count": 11,
   "metadata": {},
   "outputs": [],
   "source": [
    "pd.set_option('display.max_columns',50)\n",
    "pd.set_option('display.max_row',100)"
   ]
  },
  {
   "cell_type": "code",
   "execution_count": 93,
   "metadata": {},
   "outputs": [],
   "source": [
    "np.set_printoptions(edgeitems=10, suppress=True,linewidth=120)"
   ]
  },
  {
   "cell_type": "code",
   "execution_count": 47,
   "metadata": {},
   "outputs": [
    {
     "data": {
      "text/plain": [
       "{'edgeitems': 5,\n",
       " 'threshold': 1000,\n",
       " 'floatmode': 'maxprec',\n",
       " 'precision': 8,\n",
       " 'suppress': True,\n",
       " 'linewidth': 75,\n",
       " 'nanstr': 'nan',\n",
       " 'infstr': 'inf',\n",
       " 'sign': '-',\n",
       " 'formatter': None,\n",
       " 'legacy': False}"
      ]
     },
     "execution_count": 47,
     "metadata": {},
     "output_type": "execute_result"
    }
   ],
   "source": [
    "np.get_printoptions()"
   ]
  },
  {
   "cell_type": "markdown",
   "metadata": {
    "colab_type": "text",
    "id": "1E0Q3aoKUCRX"
   },
   "source": [
    "## Part 1 - Data Preprocessing"
   ]
  },
  {
   "cell_type": "markdown",
   "metadata": {
    "colab_type": "text",
    "id": "cKWAkFVGUU0Z"
   },
   "source": [
    "### Importing the dataset"
   ]
  },
  {
   "cell_type": "code",
   "execution_count": 81,
   "metadata": {},
   "outputs": [],
   "source": [
    "dataset = pd.read_csv('Churn_Modelling.csv')\n",
    "X = dataset.iloc[:, 3:-1].values\n",
    "y = dataset.iloc[:, -1].values"
   ]
  },
  {
   "cell_type": "code",
   "execution_count": 82,
   "metadata": {},
   "outputs": [
    {
     "data": {
      "text/plain": [
       "array([[619, 'France', 'Female', 42, 2, 0.0, 1, 1, 1, 101348.88],\n",
       "       [608, 'Spain', 'Female', 41, 1, 83807.86, 1, 0, 1, 112542.58],\n",
       "       [502, 'France', 'Female', 42, 8, 159660.8, 3, 1, 0, 113931.57],\n",
       "       [699, 'France', 'Female', 39, 1, 0.0, 2, 0, 0, 93826.63],\n",
       "       [850, 'Spain', 'Female', 43, 2, 125510.82, 1, 1, 1, 79084.1],\n",
       "       [645, 'Spain', 'Male', 44, 8, 113755.78, 2, 1, 0, 149756.71],\n",
       "       [822, 'France', 'Male', 50, 7, 0.0, 2, 1, 1, 10062.8],\n",
       "       [376, 'Germany', 'Female', 29, 4, 115046.74, 4, 1, 0, 119346.88],\n",
       "       [501, 'France', 'Male', 44, 4, 142051.07, 2, 0, 1, 74940.5],\n",
       "       [684, 'France', 'Male', 27, 2, 134603.88, 1, 1, 1, 71725.73],\n",
       "       ...,\n",
       "       [714, 'Germany', 'Male', 33, 3, 35016.6, 1, 1, 0, 53667.08],\n",
       "       [597, 'France', 'Female', 53, 4, 88381.21, 1, 1, 0, 69384.71],\n",
       "       [726, 'Spain', 'Male', 36, 2, 0.0, 1, 1, 0, 195192.4],\n",
       "       [644, 'France', 'Male', 28, 7, 155060.41, 1, 1, 0, 29179.52],\n",
       "       [800, 'France', 'Female', 29, 2, 0.0, 2, 0, 0, 167773.55],\n",
       "       [771, 'France', 'Male', 39, 5, 0.0, 2, 1, 0, 96270.64],\n",
       "       [516, 'France', 'Male', 35, 10, 57369.61, 1, 1, 1, 101699.77],\n",
       "       [709, 'France', 'Female', 36, 7, 0.0, 1, 0, 1, 42085.58],\n",
       "       [772, 'Germany', 'Male', 42, 3, 75075.31, 2, 1, 0, 92888.52],\n",
       "       [792, 'France', 'Female', 28, 4, 130142.79, 1, 1, 0, 38190.78]],\n",
       "      dtype=object)"
      ]
     },
     "execution_count": 82,
     "metadata": {},
     "output_type": "execute_result"
    }
   ],
   "source": [
    "X"
   ]
  },
  {
   "cell_type": "code",
   "execution_count": 26,
   "metadata": {},
   "outputs": [
    {
     "data": {
      "text/plain": [
       "array([1, 0, 1, 0, 0, 1, 0, 1, 0, 0, ..., 0, 1, 0, 0, 0, 0, 0, 1, 1, 0], dtype=int64)"
      ]
     },
     "execution_count": 26,
     "metadata": {},
     "output_type": "execute_result"
    }
   ],
   "source": [
    "y"
   ]
  },
  {
   "cell_type": "markdown",
   "metadata": {
    "colab_type": "text",
    "id": "N6bQ0UgSU-NJ"
   },
   "source": [
    "### Encoding categorical data"
   ]
  },
  {
   "cell_type": "markdown",
   "metadata": {
    "colab_type": "text",
    "id": "le5MJreAbW52"
   },
   "source": [
    "Label Encoding the \"Gender\" column"
   ]
  },
  {
   "cell_type": "code",
   "execution_count": 83,
   "metadata": {},
   "outputs": [],
   "source": [
    "from sklearn.preprocessing import LabelEncoder\n",
    "le = LabelEncoder()\n",
    "X[:,2]= le.fit_transform(X[:, 2])"
   ]
  },
  {
   "cell_type": "code",
   "execution_count": 84,
   "metadata": {},
   "outputs": [
    {
     "data": {
      "text/plain": [
       "array([[619, 'France', 0, 42, 2, 0.0, 1, 1, 1, 101348.88],\n",
       "       [608, 'Spain', 0, 41, 1, 83807.86, 1, 0, 1, 112542.58],\n",
       "       [502, 'France', 0, 42, 8, 159660.8, 3, 1, 0, 113931.57],\n",
       "       [699, 'France', 0, 39, 1, 0.0, 2, 0, 0, 93826.63],\n",
       "       [850, 'Spain', 0, 43, 2, 125510.82, 1, 1, 1, 79084.1],\n",
       "       [645, 'Spain', 1, 44, 8, 113755.78, 2, 1, 0, 149756.71],\n",
       "       [822, 'France', 1, 50, 7, 0.0, 2, 1, 1, 10062.8],\n",
       "       [376, 'Germany', 0, 29, 4, 115046.74, 4, 1, 0, 119346.88],\n",
       "       [501, 'France', 1, 44, 4, 142051.07, 2, 0, 1, 74940.5],\n",
       "       [684, 'France', 1, 27, 2, 134603.88, 1, 1, 1, 71725.73],\n",
       "       ...,\n",
       "       [714, 'Germany', 1, 33, 3, 35016.6, 1, 1, 0, 53667.08],\n",
       "       [597, 'France', 0, 53, 4, 88381.21, 1, 1, 0, 69384.71],\n",
       "       [726, 'Spain', 1, 36, 2, 0.0, 1, 1, 0, 195192.4],\n",
       "       [644, 'France', 1, 28, 7, 155060.41, 1, 1, 0, 29179.52],\n",
       "       [800, 'France', 0, 29, 2, 0.0, 2, 0, 0, 167773.55],\n",
       "       [771, 'France', 1, 39, 5, 0.0, 2, 1, 0, 96270.64],\n",
       "       [516, 'France', 1, 35, 10, 57369.61, 1, 1, 1, 101699.77],\n",
       "       [709, 'France', 0, 36, 7, 0.0, 1, 0, 1, 42085.58],\n",
       "       [772, 'Germany', 1, 42, 3, 75075.31, 2, 1, 0, 92888.52],\n",
       "       [792, 'France', 0, 28, 4, 130142.79, 1, 1, 0, 38190.78]],\n",
       "      dtype=object)"
      ]
     },
     "execution_count": 84,
     "metadata": {},
     "output_type": "execute_result"
    }
   ],
   "source": [
    "X"
   ]
  },
  {
   "cell_type": "markdown",
   "metadata": {
    "colab_type": "text",
    "id": "CUxGZezpbMcb"
   },
   "source": [
    "One Hot Encoding the \"Geography\" column"
   ]
  },
  {
   "cell_type": "code",
   "execution_count": 85,
   "metadata": {},
   "outputs": [],
   "source": [
    "from sklearn.compose import ColumnTransformer\n",
    "from sklearn.preprocessing import OneHotEncoder\n",
    "ct = ColumnTransformer(transformers=[('encoder', OneHotEncoder(),[1])],remainder='passthrough')\n",
    "X = np.array(ct.fit_transform(X))"
   ]
  },
  {
   "cell_type": "markdown",
   "metadata": {},
   "source": [
    "OrdinalEncoder : encode categorical with order i.e. small, medium, large <br>\n",
    "OneHotEncoder: encode categorical without order"
   ]
  },
  {
   "cell_type": "code",
   "execution_count": 86,
   "metadata": {},
   "outputs": [
    {
     "data": {
      "text/plain": [
       "array(['encoder__x1_France', 'encoder__x1_Germany', 'encoder__x1_Spain',\n",
       "       'remainder__x0', 'remainder__x2', 'remainder__x3', 'remainder__x4',\n",
       "       'remainder__x5', 'remainder__x6', 'remainder__x7', 'remainder__x8',\n",
       "       'remainder__x9'], dtype=object)"
      ]
     },
     "execution_count": 86,
     "metadata": {},
     "output_type": "execute_result"
    }
   ],
   "source": [
    "ct.get_feature_names_out()"
   ]
  },
  {
   "cell_type": "code",
   "execution_count": 87,
   "metadata": {},
   "outputs": [
    {
     "data": {
      "text/plain": [
       "array([[1.0, 0.0, 0.0, 619, 0, 42, 2, 0.0, 1, 1, 1, 101348.88],\n",
       "       [0.0, 0.0, 1.0, 608, 0, 41, 1, 83807.86, 1, 0, 1, 112542.58],\n",
       "       [1.0, 0.0, 0.0, 502, 0, 42, 8, 159660.8, 3, 1, 0, 113931.57],\n",
       "       [1.0, 0.0, 0.0, 699, 0, 39, 1, 0.0, 2, 0, 0, 93826.63],\n",
       "       [0.0, 0.0, 1.0, 850, 0, 43, 2, 125510.82, 1, 1, 1, 79084.1],\n",
       "       [0.0, 0.0, 1.0, 645, 1, 44, 8, 113755.78, 2, 1, 0, 149756.71],\n",
       "       [1.0, 0.0, 0.0, 822, 1, 50, 7, 0.0, 2, 1, 1, 10062.8],\n",
       "       [0.0, 1.0, 0.0, 376, 0, 29, 4, 115046.74, 4, 1, 0, 119346.88],\n",
       "       [1.0, 0.0, 0.0, 501, 1, 44, 4, 142051.07, 2, 0, 1, 74940.5],\n",
       "       [1.0, 0.0, 0.0, 684, 1, 27, 2, 134603.88, 1, 1, 1, 71725.73],\n",
       "       ...,\n",
       "       [0.0, 1.0, 0.0, 714, 1, 33, 3, 35016.6, 1, 1, 0, 53667.08],\n",
       "       [1.0, 0.0, 0.0, 597, 0, 53, 4, 88381.21, 1, 1, 0, 69384.71],\n",
       "       [0.0, 0.0, 1.0, 726, 1, 36, 2, 0.0, 1, 1, 0, 195192.4],\n",
       "       [1.0, 0.0, 0.0, 644, 1, 28, 7, 155060.41, 1, 1, 0, 29179.52],\n",
       "       [1.0, 0.0, 0.0, 800, 0, 29, 2, 0.0, 2, 0, 0, 167773.55],\n",
       "       [1.0, 0.0, 0.0, 771, 1, 39, 5, 0.0, 2, 1, 0, 96270.64],\n",
       "       [1.0, 0.0, 0.0, 516, 1, 35, 10, 57369.61, 1, 1, 1, 101699.77],\n",
       "       [1.0, 0.0, 0.0, 709, 0, 36, 7, 0.0, 1, 0, 1, 42085.58],\n",
       "       [0.0, 1.0, 0.0, 772, 1, 42, 3, 75075.31, 2, 1, 0, 92888.52],\n",
       "       [1.0, 0.0, 0.0, 792, 0, 28, 4, 130142.79, 1, 1, 0, 38190.78]],\n",
       "      dtype=object)"
      ]
     },
     "execution_count": 87,
     "metadata": {},
     "output_type": "execute_result"
    }
   ],
   "source": [
    "X"
   ]
  },
  {
   "cell_type": "markdown",
   "metadata": {
    "colab_type": "text",
    "id": "vHol938cW8zd"
   },
   "source": [
    "### Splitting the dataset into the Training set and Test set"
   ]
  },
  {
   "cell_type": "code",
   "execution_count": 89,
   "metadata": {},
   "outputs": [],
   "source": [
    "from sklearn.model_selection import train_test_split\n",
    "X_train, X_test, y_train, y_test = train_test_split(X, y, test_size= 0.2, random_state=0)"
   ]
  },
  {
   "cell_type": "markdown",
   "metadata": {
    "colab_type": "text",
    "id": "RE_FcHyfV3TQ"
   },
   "source": [
    "### Feature Scaling"
   ]
  },
  {
   "cell_type": "code",
   "execution_count": null,
   "metadata": {},
   "outputs": [],
   "source": [
    "from sklearn.preprocessing import StandardScaler\n",
    "sc = StandardScaler()\n",
    "X_train = sc.fit_transform(X_train)\n",
    "X_test = sc.transform(X_test)"
   ]
  },
  {
   "cell_type": "markdown",
   "metadata": {},
   "source": [
    "do Feature scaling for ALL columns"
   ]
  },
  {
   "cell_type": "code",
   "execution_count": 96,
   "metadata": {},
   "outputs": [
    {
     "data": {
      "text/plain": [
       "array([[-1.01460667, -0.5698444 ,  1.74309049,  0.16958176, -1.09168714, -0.46460796,  0.00666099, -1.21571749,\n",
       "         0.8095029 ,  0.64259497, -1.03227043,  1.10643166],\n",
       "       [-1.01460667,  1.75486502, -0.57369368, -2.30455945,  0.91601335,  0.30102557, -1.37744033, -0.00631193,\n",
       "        -0.92159124,  0.64259497,  0.9687384 , -0.74866447],\n",
       "       [ 0.98560362, -0.5698444 , -0.57369368, -1.19119591, -1.09168714, -0.94312892, -1.031415  ,  0.57993469,\n",
       "        -0.92159124,  0.64259497, -1.03227043,  1.48533467],\n",
       "       [-1.01460667, -0.5698444 ,  1.74309049,  0.03556578,  0.91601335,  0.10961719,  0.00666099,  0.47312769,\n",
       "        -0.92159124,  0.64259497, -1.03227043,  1.27652776],\n",
       "       [-1.01460667, -0.5698444 ,  1.74309049,  2.05611444, -1.09168714,  1.73658844,  1.04473698,  0.8101927 ,\n",
       "         0.8095029 ,  0.64259497,  0.9687384 ,  0.55837842],\n",
       "       [-1.01460667,  1.75486502, -0.57369368,  1.29325423, -1.09168714, -0.17749539, -1.031415  ,  0.44253504,\n",
       "         0.8095029 ,  0.64259497, -1.03227043,  1.63252134],\n",
       "       [ 0.98560362, -0.5698444 , -0.57369368,  1.6128308 ,  0.91601335,  0.77954653, -1.37744033,  0.30432823,\n",
       "        -0.92159124, -1.55619021, -1.03227043,  0.48149647],\n",
       "       [-1.01460667, -0.5698444 ,  1.74309049, -0.54173384,  0.91601335,  0.20532138,  1.04473698, -1.21571749,\n",
       "         0.8095029 ,  0.64259497,  0.9687384 ,  1.07382167],\n",
       "       [-1.01460667, -0.5698444 ,  1.74309049, -0.14999481,  0.91601335,  3.55496808,  1.39076231,  0.80633029,\n",
       "        -0.92159124,  0.64259497,  0.9687384 , -1.04949755],\n",
       "       [ 0.98560362, -0.5698444 , -0.57369368, -0.29431972, -1.09168714, -0.65601634,  0.35268632,  1.48636403,\n",
       "         0.8095029 ,  0.64259497, -1.03227043,  0.01539358],\n",
       "       ...,\n",
       "       [ 0.98560362, -0.5698444 , -0.57369368,  1.74684679, -1.09168714,  0.97095491, -1.37744033, -1.21571749,\n",
       "         0.8095029 ,  0.64259497,  0.9687384 ,  0.32875681],\n",
       "       [ 0.98560362, -0.5698444 , -0.57369368,  1.30356315, -1.09168714, -0.84742473, -0.33936434, -1.21571749,\n",
       "         0.8095029 , -1.55619021,  0.9687384 ,  0.26835375],\n",
       "       [ 0.98560362, -0.5698444 , -0.57369368, -0.55204276,  0.91601335, -1.90017083, -1.031415  , -1.21571749,\n",
       "         0.8095029 ,  0.64259497,  0.9687384 , -0.15878282],\n",
       "       [-1.01460667, -0.5698444 ,  1.74309049, -1.07779777, -1.09168714,  0.58813815, -1.031415  , -1.21571749,\n",
       "        -0.92159124, -1.55619021, -1.03227043,  1.69666874],\n",
       "       [-1.01460667,  1.75486502, -0.57369368,  0.2829799 ,  0.91601335,  0.87525072, -1.031415  ,  0.39987878,\n",
       "         0.8095029 , -1.55619021,  0.9687384 ,  1.62169172],\n",
       "       [-1.01460667,  1.75486502, -0.57369368, -0.58296952, -1.09168714, -0.65601634, -0.33936434,  0.70310413,\n",
       "         0.8095029 ,  0.64259497,  0.9687384 ,  1.09133037],\n",
       "       [-1.01460667, -0.5698444 ,  1.74309049,  1.47881482, -1.09168714, -1.61305826, -0.33936434,  0.61306004,\n",
       "        -0.92159124,  0.64259497,  0.9687384 ,  0.13175997],\n",
       "       [ 0.98560362, -0.5698444 , -0.57369368,  0.9015152 ,  0.91601335, -0.36890377,  0.00666099,  1.36147352,\n",
       "         0.8095029 ,  0.64259497, -1.03227043,  1.41231994],\n",
       "       [-1.01460667, -0.5698444 ,  1.74309049, -0.62420521, -1.09168714, -0.08179119,  1.39076231, -1.21571749,\n",
       "         0.8095029 ,  0.64259497,  0.9687384 ,  0.84432121],\n",
       "       [-1.01460667,  1.75486502, -0.57369368, -0.28401079, -1.09168714,  0.87525072, -1.37744033,  0.5113635 ,\n",
       "        -0.92159124,  0.64259497, -1.03227043,  0.32472465]])"
      ]
     },
     "execution_count": 96,
     "metadata": {},
     "output_type": "execute_result"
    }
   ],
   "source": [
    "X_train"
   ]
  },
  {
   "cell_type": "code",
   "execution_count": 97,
   "metadata": {},
   "outputs": [
    {
     "data": {
      "text/plain": [
       "array([[-1.01460667,  1.75486502, -0.57369368, -0.55204276, -1.09168714, -0.36890377,  1.04473698,  0.8793029 ,\n",
       "        -0.92159124,  0.64259497,  0.9687384 ,  1.61085707],\n",
       "       [ 0.98560362, -0.5698444 , -0.57369368, -1.31490297, -1.09168714,  0.10961719, -1.031415  ,  0.42972196,\n",
       "        -0.92159124,  0.64259497, -1.03227043,  0.49587037],\n",
       "       [-1.01460667, -0.5698444 ,  1.74309049,  0.57162971, -1.09168714,  0.30102557,  1.04473698,  0.30858264,\n",
       "        -0.92159124,  0.64259497,  0.9687384 , -0.42478674],\n",
       "       [ 0.98560362, -0.5698444 , -0.57369368,  1.41696129,  0.91601335, -0.65601634, -0.33936434,  0.57533623,\n",
       "        -0.92159124, -1.55619021, -1.03227043, -0.18777657],\n",
       "       [-1.01460667,  1.75486502, -0.57369368,  0.57162971,  0.91601335, -0.08179119,  0.00666099,  1.38961097,\n",
       "         0.8095029 ,  0.64259497,  0.9687384 ,  0.61684179],\n",
       "       [-1.01460667, -0.5698444 ,  1.74309049,  0.20050853, -1.09168714,  1.73658844, -0.68538967,  1.5900207 ,\n",
       "         0.8095029 ,  0.64259497, -1.03227043, -0.01930192],\n",
       "       [-1.01460667, -0.5698444 ,  1.74309049, -0.62420521,  0.91601335, -0.46460796, -1.72346566, -0.1640232 ,\n",
       "         0.8095029 , -1.55619021,  0.9687384 ,  1.04587113],\n",
       "       [-1.01460667, -0.5698444 ,  1.74309049, -0.14999481, -1.09168714, -0.94312892,  0.35268632,  1.30238547,\n",
       "         0.8095029 ,  0.64259497,  0.9687384 ,  0.01616599],\n",
       "       [ 0.98560362, -0.5698444 , -0.57369368, -0.54173384, -1.09168714,  2.40651778,  1.39076231, -1.21571749,\n",
       "        -0.92159124, -1.55619021,  0.9687384 , -1.51196958],\n",
       "       [ 0.98560362, -0.5698444 , -0.57369368, -2.00560072, -1.09168714,  2.31081359, -1.37744033,  1.42661775,\n",
       "         0.8095029 , -1.55619021, -1.03227043,  0.70541249],\n",
       "       ...,\n",
       "       [-1.01460667, -0.5698444 ,  1.74309049, -1.6138617 ,  0.91601335,  2.69363036,  0.00666099, -1.21571749,\n",
       "         0.8095029 ,  0.64259497,  0.9687384 , -0.24823438],\n",
       "       [ 0.98560362, -0.5698444 , -0.57369368,  0.95305981, -1.09168714, -0.84742473, -1.37744033,  0.81414125,\n",
       "        -0.92159124,  0.64259497,  0.9687384 ,  0.67104756],\n",
       "       [ 0.98560362, -0.5698444 , -0.57369368, -0.59327845,  0.91601335, -0.27319958, -1.031415  , -0.09420365,\n",
       "         0.8095029 ,  0.64259497, -1.03227043, -0.34004033],\n",
       "       [ 0.98560362, -0.5698444 , -0.57369368, -0.40771785,  0.91601335, -1.03883311, -1.031415  , -1.21571749,\n",
       "         0.8095029 , -1.55619021, -1.03227043, -1.29967279],\n",
       "       [ 0.98560362, -0.5698444 , -0.57369368, -2.18085239,  0.91601335, -1.03883311,  0.69871165,  0.55770448,\n",
       "         0.8095029 ,  0.64259497, -1.03227043,  0.66663406],\n",
       "       [ 0.98560362, -0.5698444 , -0.57369368, -0.26339295, -1.09168714, -1.42164988, -1.37744033, -1.21571749,\n",
       "         0.8095029 ,  0.64259497,  0.9687384 ,  1.40431922],\n",
       "       [ 0.98560362, -0.5698444 , -0.57369368, -0.6654409 , -1.09168714, -0.36890377,  0.69871165, -1.21571749,\n",
       "         0.8095029 ,  0.64259497, -1.03227043, -0.51119631],\n",
       "       [-1.01460667, -0.5698444 ,  1.74309049, -0.74791227,  0.91601335, -0.27319958, -1.37744033,  1.29745526,\n",
       "         0.8095029 ,  0.64259497, -1.03227043,  0.71888467],\n",
       "       [-1.01460667,  1.75486502, -0.57369368, -0.00566991,  0.91601335, -0.46460796, -0.33936434,  1.05975239,\n",
       "        -0.92159124,  0.64259497,  0.9687384 , -1.54507805],\n",
       "       [-1.01460667,  1.75486502, -0.57369368, -0.79945688,  0.91601335, -0.84742473,  1.04473698,  0.82026342,\n",
       "        -0.92159124,  0.64259497, -1.03227043,  1.61255917]])"
      ]
     },
     "execution_count": 97,
     "metadata": {},
     "output_type": "execute_result"
    }
   ],
   "source": [
    "X_test"
   ]
  },
  {
   "cell_type": "markdown",
   "metadata": {
    "colab_type": "text",
    "id": "-zfEzkRVXIwF"
   },
   "source": [
    "## Part 2 - Building the ANN"
   ]
  },
  {
   "cell_type": "markdown",
   "metadata": {
    "colab_type": "text",
    "id": "KvdeScabXtlB"
   },
   "source": [
    "### Initializing the ANN"
   ]
  },
  {
   "cell_type": "markdown",
   "metadata": {},
   "source": [
    "https://stackoverflow.com/questions/66879748/what-is-the-difference-between-tf-keras-model-and-tf-keras-sequential"
   ]
  },
  {
   "cell_type": "markdown",
   "metadata": {},
   "source": [
    "An Sequential model is the simplest type of model, a linear stack of layers. But there are some flaws in using the sequential model API, it's limited in certain points. We can't build complex networks such as multi-input or multi-output networks using this API.\n",
    "\n",
    "But using Model class, we can instantiate a Model with the Functional API (and also with Subclassing the Model class) that allows us to create arbitrary graphs of layers. From this, we can get more flexibility and easily define models where each layer can connect not just with the previous and next layers but also share feature information with other layers in the model, for example, model-like ResNet, EfficientNet.\n",
    "\n",
    "In fact, most of the SOTA model that you can get from tf.keras.applications is basically implemented using the Functional API. However, in subclassing API, we define our layers in __init__ and we implement the model's forward pass in the call method.\n",
    "\n",
    "Generally speaking, all the model definitions using Sequential API, can be achieved in Functional API or Model Subclassing API. And in Functional API or Model Subclassing API, we can create complex layers that not possible to achieve in Sequential API. If you wondering which one to choose, the answer is, it totally depends on your need. However, check out the following blog post where we have discussed the various model strategies in tf. keras with more examples. Model Sub-Classing and Custom Training Loop from Scratch in TensorFlow 2"
   ]
  },
  {
   "cell_type": "code",
   "execution_count": 98,
   "metadata": {},
   "outputs": [],
   "source": [
    "ann = tf.keras.models.Sequential()"
   ]
  },
  {
   "cell_type": "markdown",
   "metadata": {
    "colab_type": "text",
    "id": "rP6urV6SX7kS"
   },
   "source": [
    "### Adding the input layer and the first hidden layer"
   ]
  },
  {
   "cell_type": "markdown",
   "metadata": {},
   "source": [
    "https://www.tensorflow.org/api_docs/python/tf/keras/activations\n",
    "i.e.\n",
    "- linear\n",
    "- relu\n",
    "- selu\n",
    "- sigmoid\n",
    "- softmax\n",
    "- softplus\n",
    "- tanh\n",
    "- etc."
   ]
  },
  {
   "cell_type": "code",
   "execution_count": 101,
   "metadata": {},
   "outputs": [],
   "source": [
    "ann.add(tf.keras.layers.Dense(units=6, activation='relu'))"
   ]
  },
  {
   "cell_type": "markdown",
   "metadata": {
    "colab_type": "text",
    "id": "BELWAc_8YJze"
   },
   "source": [
    "### Adding the second hidden layer"
   ]
  },
  {
   "cell_type": "code",
   "execution_count": 102,
   "metadata": {},
   "outputs": [],
   "source": [
    "ann.add(tf.keras.layers.Dense(units=6, activation='relu'))"
   ]
  },
  {
   "cell_type": "markdown",
   "metadata": {
    "colab_type": "text",
    "id": "OyNEe6RXYcU4"
   },
   "source": [
    "### Adding the output layer"
   ]
  },
  {
   "cell_type": "code",
   "execution_count": 103,
   "metadata": {},
   "outputs": [],
   "source": [
    "ann.add(tf.keras.layers.Dense(units=1, activation='sigmoid'))"
   ]
  },
  {
   "cell_type": "markdown",
   "metadata": {
    "colab_type": "text",
    "id": "JT4u2S1_Y4WG"
   },
   "source": [
    "## Part 3 - Training the ANN"
   ]
  },
  {
   "cell_type": "markdown",
   "metadata": {
    "colab_type": "text",
    "id": "8GWlJChhY_ZI"
   },
   "source": [
    "### Compiling the ANN"
   ]
  },
  {
   "cell_type": "markdown",
   "metadata": {},
   "source": [
    "https://www.tensorflow.org/api_docs/python/tf/keras/optimizers\n",
    "- Adam\n",
    "- SGD\n",
    "- RMSprop\n",
    "- etc."
   ]
  },
  {
   "cell_type": "markdown",
   "metadata": {},
   "source": [
    "https://www.tensorflow.org/api_docs/python/tf/keras/losses\n",
    "- BinaryCrossentropy\n",
    "- MAE\n",
    "- MSE\n",
    "- MAPE\n",
    "- Poisson\n",
    "- etc."
   ]
  },
  {
   "cell_type": "markdown",
   "metadata": {},
   "source": [
    "https://www.tensorflow.org/api_docs/python/tf/keras/metrics\n",
    "- AUC\n",
    "- Accuracy\n",
    "- Mean\n",
    "- MeanAbsoluteError\n",
    "- Poisson\n",
    "- R2Score"
   ]
  },
  {
   "cell_type": "code",
   "execution_count": 107,
   "metadata": {},
   "outputs": [],
   "source": [
    "ann.compile(optimizer='Adam',loss='BinaryCrossentropy', metrics=['Accuracy'])"
   ]
  },
  {
   "cell_type": "markdown",
   "metadata": {
    "colab_type": "text",
    "id": "0QR_G5u7ZLSM"
   },
   "source": [
    "### Training the ANN on the Training set"
   ]
  },
  {
   "cell_type": "code",
   "execution_count": 108,
   "metadata": {
    "collapsed": true,
    "jupyter": {
     "outputs_hidden": true
    }
   },
   "outputs": [
    {
     "name": "stdout",
     "output_type": "stream",
     "text": [
      "Epoch 1/100\n",
      "250/250 [==============================] - 20s 9ms/step - loss: 0.5234 - Accuracy: 0.7954\n",
      "Epoch 2/100\n",
      "250/250 [==============================] - 2s 9ms/step - loss: 0.4641 - Accuracy: 0.7960\n",
      "Epoch 3/100\n",
      "250/250 [==============================] - 2s 8ms/step - loss: 0.4454 - Accuracy: 0.7960\n",
      "Epoch 4/100\n",
      "250/250 [==============================] - 2s 9ms/step - loss: 0.4320 - Accuracy: 0.7960\n",
      "Epoch 5/100\n",
      "250/250 [==============================] - 2s 8ms/step - loss: 0.4182 - Accuracy: 0.7960\n",
      "Epoch 6/100\n",
      "250/250 [==============================] - 2s 8ms/step - loss: 0.3998 - Accuracy: 0.8224\n",
      "Epoch 7/100\n",
      "250/250 [==============================] - 2s 8ms/step - loss: 0.3795 - Accuracy: 0.8404\n",
      "Epoch 8/100\n",
      "250/250 [==============================] - 2s 8ms/step - loss: 0.3685 - Accuracy: 0.8426\n",
      "Epoch 9/100\n",
      "250/250 [==============================] - 2s 9ms/step - loss: 0.3630 - Accuracy: 0.8450\n",
      "Epoch 10/100\n",
      "250/250 [==============================] - 2s 9ms/step - loss: 0.3599 - Accuracy: 0.8491\n",
      "Epoch 11/100\n",
      "250/250 [==============================] - 3s 11ms/step - loss: 0.3578 - Accuracy: 0.8504\n",
      "Epoch 12/100\n",
      "250/250 [==============================] - 2s 9ms/step - loss: 0.3561 - Accuracy: 0.8518\n",
      "Epoch 13/100\n",
      "250/250 [==============================] - 2s 9ms/step - loss: 0.3540 - Accuracy: 0.8530\n",
      "Epoch 14/100\n",
      "250/250 [==============================] - 2s 9ms/step - loss: 0.3532 - Accuracy: 0.8528\n",
      "Epoch 15/100\n",
      "250/250 [==============================] - 2s 8ms/step - loss: 0.3523 - Accuracy: 0.8556\n",
      "Epoch 16/100\n",
      "250/250 [==============================] - 2s 9ms/step - loss: 0.3512 - Accuracy: 0.8550\n",
      "Epoch 17/100\n",
      "250/250 [==============================] - 2s 8ms/step - loss: 0.3503 - Accuracy: 0.8574\n",
      "Epoch 18/100\n",
      "250/250 [==============================] - 2s 9ms/step - loss: 0.3491 - Accuracy: 0.8575\n",
      "Epoch 19/100\n",
      "250/250 [==============================] - 2s 9ms/step - loss: 0.3485 - Accuracy: 0.8570\n",
      "Epoch 20/100\n",
      "250/250 [==============================] - 2s 9ms/step - loss: 0.3477 - Accuracy: 0.8589\n",
      "Epoch 21/100\n",
      "250/250 [==============================] - 2s 8ms/step - loss: 0.3473 - Accuracy: 0.8577\n",
      "Epoch 22/100\n",
      "250/250 [==============================] - 2s 9ms/step - loss: 0.3464 - Accuracy: 0.8600\n",
      "Epoch 23/100\n",
      "250/250 [==============================] - 2s 9ms/step - loss: 0.3454 - Accuracy: 0.8595\n",
      "Epoch 24/100\n",
      "250/250 [==============================] - 2s 9ms/step - loss: 0.3444 - Accuracy: 0.8600\n",
      "Epoch 25/100\n",
      "250/250 [==============================] - 2s 9ms/step - loss: 0.3447 - Accuracy: 0.8627\n",
      "Epoch 26/100\n",
      "250/250 [==============================] - 2s 9ms/step - loss: 0.3436 - Accuracy: 0.8600\n",
      "Epoch 27/100\n",
      "250/250 [==============================] - 2s 9ms/step - loss: 0.3437 - Accuracy: 0.8606\n",
      "Epoch 28/100\n",
      "250/250 [==============================] - 2s 9ms/step - loss: 0.3430 - Accuracy: 0.8612\n",
      "Epoch 29/100\n",
      "250/250 [==============================] - 2s 9ms/step - loss: 0.3425 - Accuracy: 0.8630\n",
      "Epoch 30/100\n",
      "250/250 [==============================] - 2s 10ms/step - loss: 0.3417 - Accuracy: 0.8629\n",
      "Epoch 31/100\n",
      "250/250 [==============================] - 2s 9ms/step - loss: 0.3409 - Accuracy: 0.8625\n",
      "Epoch 32/100\n",
      "250/250 [==============================] - 2s 10ms/step - loss: 0.3398 - Accuracy: 0.8634\n",
      "Epoch 33/100\n",
      "250/250 [==============================] - 2s 9ms/step - loss: 0.3396 - Accuracy: 0.8621\n",
      "Epoch 34/100\n",
      "250/250 [==============================] - 2s 9ms/step - loss: 0.3388 - Accuracy: 0.8621\n",
      "Epoch 35/100\n",
      "250/250 [==============================] - 2s 9ms/step - loss: 0.3388 - Accuracy: 0.8620\n",
      "Epoch 36/100\n",
      "250/250 [==============================] - 2s 10ms/step - loss: 0.3377 - Accuracy: 0.8631\n",
      "Epoch 37/100\n",
      "250/250 [==============================] - 2s 9ms/step - loss: 0.3374 - Accuracy: 0.8634\n",
      "Epoch 38/100\n",
      "250/250 [==============================] - 2s 9ms/step - loss: 0.3384 - Accuracy: 0.8605\n",
      "Epoch 39/100\n",
      "250/250 [==============================] - 2s 9ms/step - loss: 0.3376 - Accuracy: 0.8639\n",
      "Epoch 40/100\n",
      "250/250 [==============================] - 2s 9ms/step - loss: 0.3377 - Accuracy: 0.8636\n",
      "Epoch 41/100\n",
      "250/250 [==============================] - 3s 10ms/step - loss: 0.3382 - Accuracy: 0.8622\n",
      "Epoch 42/100\n",
      "250/250 [==============================] - 2s 8ms/step - loss: 0.3367 - Accuracy: 0.8633\n",
      "Epoch 43/100\n",
      "250/250 [==============================] - 2s 8ms/step - loss: 0.3363 - Accuracy: 0.8635\n",
      "Epoch 44/100\n",
      "250/250 [==============================] - 2s 9ms/step - loss: 0.3363 - Accuracy: 0.8636\n",
      "Epoch 45/100\n",
      "250/250 [==============================] - 2s 9ms/step - loss: 0.3360 - Accuracy: 0.8637\n",
      "Epoch 46/100\n",
      "250/250 [==============================] - 2s 8ms/step - loss: 0.3359 - Accuracy: 0.8649\n",
      "Epoch 47/100\n",
      "250/250 [==============================] - 2s 8ms/step - loss: 0.3363 - Accuracy: 0.8648\n",
      "Epoch 48/100\n",
      "250/250 [==============================] - 2s 8ms/step - loss: 0.3355 - Accuracy: 0.8661\n",
      "Epoch 49/100\n",
      "250/250 [==============================] - 2s 10ms/step - loss: 0.3363 - Accuracy: 0.8635\n",
      "Epoch 50/100\n",
      "250/250 [==============================] - 2s 9ms/step - loss: 0.3355 - Accuracy: 0.8637\n",
      "Epoch 51/100\n",
      "250/250 [==============================] - 2s 8ms/step - loss: 0.3354 - Accuracy: 0.8640\n",
      "Epoch 52/100\n",
      "250/250 [==============================] - 2s 8ms/step - loss: 0.3360 - Accuracy: 0.8631\n",
      "Epoch 53/100\n",
      "250/250 [==============================] - 2s 8ms/step - loss: 0.3356 - Accuracy: 0.8634\n",
      "Epoch 54/100\n",
      "250/250 [==============================] - 2s 8ms/step - loss: 0.3357 - Accuracy: 0.8651\n",
      "Epoch 55/100\n",
      "250/250 [==============================] - 2s 9ms/step - loss: 0.3350 - Accuracy: 0.8650\n",
      "Epoch 56/100\n",
      "250/250 [==============================] - 2s 9ms/step - loss: 0.3349 - Accuracy: 0.8641\n",
      "Epoch 57/100\n",
      "250/250 [==============================] - 2s 9ms/step - loss: 0.3350 - Accuracy: 0.8648\n",
      "Epoch 58/100\n",
      "250/250 [==============================] - 2s 9ms/step - loss: 0.3353 - Accuracy: 0.8641\n",
      "Epoch 59/100\n",
      "250/250 [==============================] - 2s 8ms/step - loss: 0.3348 - Accuracy: 0.8640\n",
      "Epoch 60/100\n",
      "250/250 [==============================] - 2s 9ms/step - loss: 0.3350 - Accuracy: 0.8631\n",
      "Epoch 61/100\n",
      "250/250 [==============================] - 2s 9ms/step - loss: 0.3349 - Accuracy: 0.8658\n",
      "Epoch 62/100\n",
      "250/250 [==============================] - 2s 9ms/step - loss: 0.3341 - Accuracy: 0.8634\n",
      "Epoch 63/100\n",
      "250/250 [==============================] - 2s 10ms/step - loss: 0.3344 - Accuracy: 0.8643\n",
      "Epoch 64/100\n",
      "250/250 [==============================] - 3s 12ms/step - loss: 0.3344 - Accuracy: 0.8633\n",
      "Epoch 65/100\n",
      "250/250 [==============================] - 2s 9ms/step - loss: 0.3342 - Accuracy: 0.8634\n",
      "Epoch 66/100\n",
      "250/250 [==============================] - 2s 8ms/step - loss: 0.3343 - Accuracy: 0.8636\n",
      "Epoch 67/100\n",
      "250/250 [==============================] - 2s 9ms/step - loss: 0.3348 - Accuracy: 0.8650\n",
      "Epoch 68/100\n",
      "250/250 [==============================] - 2s 8ms/step - loss: 0.3341 - Accuracy: 0.8645\n",
      "Epoch 69/100\n",
      "250/250 [==============================] - 2s 10ms/step - loss: 0.3345 - Accuracy: 0.8626\n",
      "Epoch 70/100\n",
      "250/250 [==============================] - 2s 9ms/step - loss: 0.3335 - Accuracy: 0.8643\n",
      "Epoch 71/100\n",
      "250/250 [==============================] - 2s 9ms/step - loss: 0.3341 - Accuracy: 0.8629\n",
      "Epoch 72/100\n",
      "250/250 [==============================] - 2s 9ms/step - loss: 0.3338 - Accuracy: 0.8646\n",
      "Epoch 73/100\n",
      "250/250 [==============================] - 2s 9ms/step - loss: 0.3340 - Accuracy: 0.8641\n",
      "Epoch 74/100\n",
      "250/250 [==============================] - 2s 10ms/step - loss: 0.3332 - Accuracy: 0.8645\n",
      "Epoch 75/100\n",
      "250/250 [==============================] - 2s 8ms/step - loss: 0.3335 - Accuracy: 0.8649\n",
      "Epoch 76/100\n",
      "250/250 [==============================] - 2s 9ms/step - loss: 0.3333 - Accuracy: 0.8639\n",
      "Epoch 77/100\n",
      "250/250 [==============================] - 2s 8ms/step - loss: 0.3337 - Accuracy: 0.8655\n",
      "Epoch 78/100\n",
      "250/250 [==============================] - 2s 10ms/step - loss: 0.3340 - Accuracy: 0.8658\n",
      "Epoch 79/100\n",
      "250/250 [==============================] - 2s 9ms/step - loss: 0.3327 - Accuracy: 0.8661\n",
      "Epoch 80/100\n",
      "250/250 [==============================] - 2s 9ms/step - loss: 0.3338 - Accuracy: 0.8645\n",
      "Epoch 81/100\n",
      "250/250 [==============================] - 2s 9ms/step - loss: 0.3327 - Accuracy: 0.8644\n",
      "Epoch 82/100\n",
      "250/250 [==============================] - 2s 9ms/step - loss: 0.3332 - Accuracy: 0.8654\n",
      "Epoch 83/100\n",
      "250/250 [==============================] - 2s 9ms/step - loss: 0.3333 - Accuracy: 0.8646\n",
      "Epoch 84/100\n",
      "250/250 [==============================] - 2s 9ms/step - loss: 0.3330 - Accuracy: 0.8650\n",
      "Epoch 85/100\n",
      "250/250 [==============================] - 2s 9ms/step - loss: 0.3329 - Accuracy: 0.8639\n",
      "Epoch 86/100\n",
      "250/250 [==============================] - 2s 9ms/step - loss: 0.3327 - Accuracy: 0.8646\n",
      "Epoch 87/100\n",
      "250/250 [==============================] - 2s 9ms/step - loss: 0.3331 - Accuracy: 0.8645\n",
      "Epoch 88/100\n",
      "250/250 [==============================] - 2s 9ms/step - loss: 0.3337 - Accuracy: 0.8654\n",
      "Epoch 89/100\n",
      "250/250 [==============================] - 2s 8ms/step - loss: 0.3324 - Accuracy: 0.8658\n",
      "Epoch 90/100\n",
      "250/250 [==============================] - 2s 9ms/step - loss: 0.3328 - Accuracy: 0.8664\n",
      "Epoch 91/100\n",
      "250/250 [==============================] - 2s 8ms/step - loss: 0.3329 - Accuracy: 0.8649\n",
      "Epoch 92/100\n",
      "250/250 [==============================] - 2s 8ms/step - loss: 0.3326 - Accuracy: 0.8654\n",
      "Epoch 93/100\n",
      "250/250 [==============================] - 2s 8ms/step - loss: 0.3327 - Accuracy: 0.8631\n",
      "Epoch 94/100\n",
      "250/250 [==============================] - 2s 8ms/step - loss: 0.3330 - Accuracy: 0.8661\n",
      "Epoch 95/100\n",
      "250/250 [==============================] - 2s 9ms/step - loss: 0.3329 - Accuracy: 0.8649\n",
      "Epoch 96/100\n",
      "250/250 [==============================] - 2s 9ms/step - loss: 0.3323 - Accuracy: 0.8648\n",
      "Epoch 97/100\n",
      "250/250 [==============================] - 2s 9ms/step - loss: 0.3331 - Accuracy: 0.8661\n",
      "Epoch 98/100\n",
      "250/250 [==============================] - 2s 8ms/step - loss: 0.3335 - Accuracy: 0.8641\n",
      "Epoch 99/100\n",
      "250/250 [==============================] - 2s 9ms/step - loss: 0.3331 - Accuracy: 0.8659\n",
      "Epoch 100/100\n",
      "250/250 [==============================] - 2s 8ms/step - loss: 0.3326 - Accuracy: 0.8648\n"
     ]
    },
    {
     "data": {
      "text/plain": [
       "<keras.callbacks.History at 0x212c92dc4c0>"
      ]
     },
     "execution_count": 108,
     "metadata": {},
     "output_type": "execute_result"
    }
   ],
   "source": [
    "ann.fit(X_train,y_train,batch_size=32,epochs=100)"
   ]
  },
  {
   "cell_type": "markdown",
   "metadata": {
    "colab_type": "text",
    "id": "tJj5k2MxZga3"
   },
   "source": [
    "## Part 4 - Making the predictions and evaluating the model"
   ]
  },
  {
   "cell_type": "markdown",
   "metadata": {
    "colab_type": "text",
    "id": "84QFoqGYeXHL"
   },
   "source": [
    "### Predicting the result of a single observation"
   ]
  },
  {
   "cell_type": "markdown",
   "metadata": {
    "colab_type": "text",
    "id": "CGRo3eacgDdC"
   },
   "source": [
    "**Homework**\n",
    "\n",
    "Use our ANN model to predict if the customer with the following informations will leave the bank: \n",
    "\n",
    "Geography: France\n",
    "\n",
    "Credit Score: 600\n",
    "\n",
    "Gender: Male\n",
    "\n",
    "Age: 40 years old\n",
    "\n",
    "Tenure: 3 years\n",
    "\n",
    "Balance: \\$ 60000\n",
    "\n",
    "Number of Products: 2\n",
    "\n",
    "Does this customer have a credit card ? Yes\n",
    "\n",
    "Is this customer an Active Member: Yes\n",
    "\n",
    "Estimated Salary: \\$ 50000\n",
    "\n",
    "So, should we say goodbye to that customer ?"
   ]
  },
  {
   "cell_type": "markdown",
   "metadata": {
    "colab_type": "text",
    "id": "ZhU1LTgPg-kH"
   },
   "source": [
    "**Solution**"
   ]
  },
  {
   "cell_type": "code",
   "execution_count": 18,
   "metadata": {
    "colab": {
     "base_uri": "https://localhost:8080/",
     "height": 34
    },
    "colab_type": "code",
    "id": "2d8IoCCkeWGL",
    "outputId": "957f3970-e197-4c3b-a150-7f69dc567f5d"
   },
   "outputs": [
    {
     "name": "stdout",
     "output_type": "stream",
     "text": [
      "[[False]]\n"
     ]
    }
   ],
   "source": [
    "print(ann.predict(sc.transform([[1, 0, 0, 600, 1, 40, 3, 60000, 2, 1, 1, 50000]])) > 0.5)"
   ]
  },
  {
   "cell_type": "markdown",
   "metadata": {
    "colab_type": "text",
    "id": "wGjx94g2n7OV"
   },
   "source": [
    "Therefore, our ANN model predicts that this customer stays in the bank!\n",
    "\n",
    "**Important note 1:** Notice that the values of the features were all input in a double pair of square brackets. That's because the \"predict\" method always expects a 2D array as the format of its inputs. And putting our values into a double pair of square brackets makes the input exactly a 2D array.\n",
    "\n",
    "**Important note 2:** Notice also that the \"France\" country was not input as a string in the last column but as \"1, 0, 0\" in the first three columns. That's because of course the predict method expects the one-hot-encoded values of the state, and as we see in the first row of the matrix of features X, \"France\" was encoded as \"1, 0, 0\". And be careful to include these values in the first three columns, because the dummy variables are always created in the first columns."
   ]
  },
  {
   "cell_type": "markdown",
   "metadata": {
    "colab_type": "text",
    "id": "u7yx47jPZt11"
   },
   "source": [
    "### Predicting the Test set results"
   ]
  },
  {
   "cell_type": "code",
   "execution_count": 31,
   "metadata": {
    "colab": {
     "base_uri": "https://localhost:8080/",
     "height": 137
    },
    "colab_type": "code",
    "id": "nIyEeQdRZwgs",
    "outputId": "82330ba8-9bdc-4fd1-d3cf-b6d78ee7c2a3"
   },
   "outputs": [
    {
     "name": "stdout",
     "output_type": "stream",
     "text": [
      "63/63 [==============================] - 0s 3ms/step\n",
      "[[0 0]\n",
      " [0 1]\n",
      " [0 0]\n",
      " [0 0]\n",
      " [0 0]\n",
      " [1 1]\n",
      " [0 0]\n",
      " [0 0]\n",
      " [0 1]\n",
      " [1 1]\n",
      " ...\n",
      " [0 0]\n",
      " [0 0]\n",
      " [0 0]\n",
      " [0 0]\n",
      " [0 0]\n",
      " [0 0]\n",
      " [0 0]\n",
      " [0 0]\n",
      " [0 0]\n",
      " [0 0]]\n"
     ]
    }
   ],
   "source": [
    "y_pred = ann.predict(X_test)\n",
    "y_pred = (y_pred > 0.5)\n",
    "print(np.concatenate((y_pred.reshape(len(y_pred),1), y_test.reshape(len(y_test),1)),1))"
   ]
  },
  {
   "cell_type": "code",
   "execution_count": 30,
   "metadata": {
    "scrolled": true
   },
   "outputs": [
    {
     "name": "stdout",
     "output_type": "stream",
     "text": [
      "63/63 [==============================] - 0s 3ms/step\n"
     ]
    },
    {
     "data": {
      "text/plain": [
       "array([[0, 0],\n",
       "       [0, 1],\n",
       "       [0, 0],\n",
       "       [0, 0],\n",
       "       [0, 0],\n",
       "       [1, 1],\n",
       "       [0, 0],\n",
       "       [0, 0],\n",
       "       [0, 1],\n",
       "       [1, 1],\n",
       "       ...,\n",
       "       [0, 0],\n",
       "       [0, 0],\n",
       "       [0, 0],\n",
       "       [0, 0],\n",
       "       [0, 0],\n",
       "       [0, 0],\n",
       "       [0, 0],\n",
       "       [0, 0],\n",
       "       [0, 0],\n",
       "       [0, 0]], dtype=int64)"
      ]
     },
     "execution_count": 30,
     "metadata": {},
     "output_type": "execute_result"
    }
   ],
   "source": [
    "y_pred = ann.predict(X_test)\n",
    "y_pred = (y_pred> 0.5)\n",
    "compare = np.concatenate((y_pred.reshape(len(y_pred),1), y_test.reshape(len(y_test),1)),1)\n",
    "compare"
   ]
  },
  {
   "cell_type": "markdown",
   "metadata": {
    "colab_type": "text",
    "id": "o0oyfLWoaEGw"
   },
   "source": [
    "### Making the Confusion Matrix"
   ]
  },
  {
   "cell_type": "code",
   "execution_count": 51,
   "metadata": {
    "colab": {
     "base_uri": "https://localhost:8080/",
     "height": 68
    },
    "colab_type": "code",
    "id": "ci6K_r6LaF6P",
    "outputId": "4d854e9e-22d5-432f-f6e5-a102fe3ae0bd"
   },
   "outputs": [
    {
     "name": "stdout",
     "output_type": "stream",
     "text": [
      "[[1523   72]\n",
      " [ 205  200]]\n"
     ]
    },
    {
     "data": {
      "text/plain": [
       "0.8615"
      ]
     },
     "execution_count": 51,
     "metadata": {},
     "output_type": "execute_result"
    }
   ],
   "source": [
    "from sklearn.metrics import confusion_matrix, accuracy_score\n",
    "cm = confusion_matrix(y_test, y_pred)\n",
    "print(cm)\n",
    "accuracy_score(y_test, y_pred)"
   ]
  },
  {
   "cell_type": "markdown",
   "metadata": {},
   "source": [
    "https://scikit-learn.org/stable/api/sklearn.metrics.html"
   ]
  },
  {
   "cell_type": "code",
   "execution_count": 53,
   "metadata": {},
   "outputs": [
    {
     "name": "stdout",
     "output_type": "stream",
     "text": [
      "[[1523   72]\n",
      " [ 205  200]]\n"
     ]
    },
    {
     "data": {
      "text/plain": [
       "0.8615"
      ]
     },
     "execution_count": 53,
     "metadata": {},
     "output_type": "execute_result"
    }
   ],
   "source": [
    "from sklearn.metrics import confusion_matrix, accuracy_score\n",
    "cm = confusion_matrix(y_test, y_pred)\n",
    "print(cm)\n",
    "accuracy_score(y_test, y_pred)"
   ]
  },
  {
   "cell_type": "markdown",
   "metadata": {},
   "source": [
    "y-axis : true label (1,0)\n",
    "x-axis : predicted label (1,0)"
   ]
  },
  {
   "cell_type": "code",
   "execution_count": 47,
   "metadata": {},
   "outputs": [],
   "source": [
    "from sklearn.metrics import ConfusionMatrixDisplay"
   ]
  },
  {
   "cell_type": "code",
   "execution_count": 50,
   "metadata": {},
   "outputs": [
    {
     "data": {
      "image/png": "[encoded data removed]",
      "text/plain": [
       "<Figure size 640x480 with 2 Axes>"
      ]
     },
     "metadata": {},
     "output_type": "display_data"
    }
   ],
   "source": [
    "disp = ConfusionMatrixDisplay(confusion_matrix=cm,\n",
    "                               display_labels= [\"Exit\",\"Stay\"])\n",
    "disp.plot()\n",
    "plt.show()"
   ]
  },
  {
   "cell_type": "code",
   "execution_count": null,
   "metadata": {},
   "outputs": [],
   "source": []
  }
 ],
 "metadata": {
  "colab": {
   "collapsed_sections": [],
   "name": "artificial_neural_network.ipynb",
   "provenance": [],
   "toc_visible": true
  },
  "kernelspec": {
   "display_name": "Python 3 (ipykernel)",
   "language": "python",
   "name": "python3"
  },
  "language_info": {
   "codemirror_mode": {
    "name": "ipython",
    "version": 3
   },
   "file_extension": ".py",
   "mimetype": "text/x-python",
   "name": "python",
   "nbconvert_exporter": "python",
   "pygments_lexer": "ipython3",
   "version": "3.10.14"
  }
 },
 "nbformat": 4,
 "nbformat_minor": 4
}
